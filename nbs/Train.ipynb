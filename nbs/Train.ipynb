{
 "cells": [
  {
   "cell_type": "markdown",
   "metadata": {},
   "source": [
    "# Train a DNN on MNIST"
   ]
  },
  {
   "cell_type": "code",
   "execution_count": 1,
   "metadata": {},
   "outputs": [
    {
     "name": "stderr",
     "output_type": "stream",
     "text": [
      "Using TensorFlow backend.\n"
     ]
    }
   ],
   "source": [
    "from time import strftime\n",
    "\n",
    "# Keras\n",
    "import keras as K\n",
    "from keras.models import Sequential\n",
    "from keras.layers import Dense, Reshape, Conv2D, Flatten, MaxPooling2D, Dropout\n",
    "from keras.callbacks import TensorBoard\n",
    "\n",
    "# Numpy\n",
    "import numpy as np\n",
    "\n",
    "# Pandas for reading csv\n",
    "import pandas as pd\n",
    "\n",
    "# Matplotlib\n",
    "import matplotlib.pyplot as plt\n",
    "%matplotlib inline\n",
    "plt.rcParams['figure.figsize'] = (12.0, 10.0)"
   ]
  },
  {
   "cell_type": "markdown",
   "metadata": {},
   "source": [
    "## Load the data"
   ]
  },
  {
   "cell_type": "code",
   "execution_count": 2,
   "metadata": {},
   "outputs": [],
   "source": [
    "def class_2_one_hot(lab):\n",
    "    lab_int = lab.astype(int)\n",
    "    one_hot = np.zeros((len(lab_int), max(lab_int)+1))\n",
    "    one_hot[np.arange(len(lab_int)),lab_int] = 1\n",
    "    return one_hot\n",
    "\n",
    "def one_hot_2_class(one_hot):\n",
    "    return np.argmax(one_hot, axis=1)"
   ]
  },
  {
   "cell_type": "code",
   "execution_count": 3,
   "metadata": {},
   "outputs": [
    {
     "name": "stdout",
     "output_type": "stream",
     "text": [
      "Training examples:  39900\n",
      "Validataion examples:  2100\n"
     ]
    }
   ],
   "source": [
    "known_file = '../data/train.csv'\n",
    "test_file = '../data/test.csv'\n",
    "val_split = 0.95\n",
    "\n",
    "known_data = pd.read_csv(known_file, delimiter=',').values\n",
    "\n",
    "train_n = int(len(known_data) * val_split)\n",
    "train_img = known_data[0:train_n,1:] / 255\n",
    "train_lab = class_2_one_hot(known_data[0:train_n,0])\n",
    "val_img = known_data[train_n:,1:] / 255\n",
    "val_lab = class_2_one_hot(known_data[train_n:,0])\n",
    "\n",
    "input_size = (784,)\n",
    "img_size = (28,28,1)\n",
    "\n",
    "print(\"Training examples: \", len(train_img))\n",
    "print(\"Validataion examples: \", len(val_img))"
   ]
  },
  {
   "cell_type": "code",
   "execution_count": 4,
   "metadata": {},
   "outputs": [
    {
     "data": {
      "image/png": "[encoded data removed]",
      "text/plain": [
       "<matplotlib.figure.Figure at 0x7f043d985400>"
      ]
     },
     "metadata": {},
     "output_type": "display_data"
    }
   ],
   "source": [
    "def plot_first(imgs, labels, count = 4):\n",
    "    fig = plt.figure()\n",
    "\n",
    "    for i in range(count):\n",
    "        ax = plt.subplot(1, count, i+1)\n",
    "        ax.set_title(\"Lab: %s\" % int(labels[i]))\n",
    "        ax.imshow(np.reshape(imgs[i], (28,28)))\n",
    "\n",
    "    plt.show()\n",
    "    \n",
    "plot_first(train_img, one_hot_2_class(train_lab))"
   ]
  },
  {
   "cell_type": "markdown",
   "metadata": {},
   "source": [
    "# Construct the model"
   ]
  },
  {
   "cell_type": "code",
   "execution_count": 11,
   "metadata": {},
   "outputs": [
    {
     "name": "stdout",
     "output_type": "stream",
     "text": [
      "_________________________________________________________________\n",
      "Layer (type)                 Output Shape              Param #   \n",
      "=================================================================\n",
      "reshape_2 (Reshape)          (None, 28, 28, 1)         0         \n",
      "_________________________________________________________________\n",
      "conv2d_3 (Conv2D)            (None, 24, 24, 32)        832       \n",
      "_________________________________________________________________\n",
      "max_pooling2d_3 (MaxPooling2 (None, 12, 12, 32)        0         \n",
      "_________________________________________________________________\n",
      "conv2d_4 (Conv2D)            (None, 8, 8, 64)          51264     \n",
      "_________________________________________________________________\n",
      "max_pooling2d_4 (MaxPooling2 (None, 4, 4, 64)          0         \n",
      "_________________________________________________________________\n",
      "flatten_2 (Flatten)          (None, 1024)              0         \n",
      "_________________________________________________________________\n",
      "dense_3 (Dense)              (None, 1024)              1049600   \n",
      "_________________________________________________________________\n",
      "dropout_2 (Dropout)          (None, 1024)              0         \n",
      "_________________________________________________________________\n",
      "dense_4 (Dense)              (None, 10)                10250     \n",
      "=================================================================\n",
      "Total params: 1,111,946\n",
      "Trainable params: 1,111,946\n",
      "Non-trainable params: 0\n",
      "_________________________________________________________________\n"
     ]
    }
   ],
   "source": [
    "model = Sequential()\n",
    "model.add(Reshape(img_size, input_shape=input_size))\n",
    "model.add(Conv2D(32,(5,5), activation='relu'))\n",
    "model.add(MaxPooling2D((2,2)))\n",
    "model.add(Conv2D(64,(5,5), activation='relu'))\n",
    "model.add(MaxPooling2D((2,2)))\n",
    "model.add(Flatten())\n",
    "model.add(Dense(1024))\n",
    "model.add(Dropout(0.4))\n",
    "model.add(Dense(10, activation='softmax'))\n",
    "model.compile(optimizer='rmsprop',\n",
    "              loss='categorical_crossentropy',\n",
    "              metrics=['accuracy'])\n",
    "model.summary()"
   ]
  },
  {
   "cell_type": "markdown",
   "metadata": {},
   "source": [
    "### Add tensorboard callback"
   ]
  },
  {
   "cell_type": "code",
   "execution_count": 12,
   "metadata": {},
   "outputs": [],
   "source": [
    "tensorboard_callback = TensorBoard(log_dir='../logs/{}'.format(strftime('%Y-%m-%d_%H%M%S')),\n",
    "                                   write_graph=False,\n",
    "                                   write_images=True)"
   ]
  },
  {
   "cell_type": "markdown",
   "metadata": {},
   "source": [
    "Run Tensorboard with `tensorboard --logdir=logs` from the project root."
   ]
  },
  {
   "cell_type": "markdown",
   "metadata": {},
   "source": [
    "# Train the model"
   ]
  },
  {
   "cell_type": "code",
   "execution_count": 13,
   "metadata": {},
   "outputs": [
    {
     "name": "stdout",
     "output_type": "stream",
     "text": [
      "Train on 39900 samples, validate on 2100 samples\n",
      "Epoch 1/20\n",
      "39900/39900 [==============================] - 4s 93us/step - loss: 0.2024 - acc: 0.9368 - val_loss: 0.0862 - val_acc: 0.9690\n",
      "Epoch 2/20\n",
      "39900/39900 [==============================] - 4s 92us/step - loss: 0.0492 - acc: 0.9838 - val_loss: 0.0442 - val_acc: 0.9867\n",
      "Epoch 3/20\n",
      "39900/39900 [==============================] - 4s 92us/step - loss: 0.0325 - acc: 0.9897 - val_loss: 0.0347 - val_acc: 0.9910\n",
      "Epoch 4/20\n",
      "39900/39900 [==============================] - 4s 91us/step - loss: 0.0239 - acc: 0.9923 - val_loss: 0.0436 - val_acc: 0.9867\n",
      "Epoch 5/20\n",
      "39900/39900 [==============================] - 4s 90us/step - loss: 0.0198 - acc: 0.9937 - val_loss: 0.0426 - val_acc: 0.9905\n",
      "Epoch 6/20\n",
      "39900/39900 [==============================] - 4s 90us/step - loss: 0.0144 - acc: 0.9955 - val_loss: 0.0318 - val_acc: 0.9924\n",
      "Epoch 7/20\n",
      "39900/39900 [==============================] - 4s 90us/step - loss: 0.0116 - acc: 0.9963 - val_loss: 0.0289 - val_acc: 0.9919\n",
      "Epoch 8/20\n",
      "39900/39900 [==============================] - 4s 90us/step - loss: 0.0100 - acc: 0.9969 - val_loss: 0.0410 - val_acc: 0.9905\n",
      "Epoch 9/20\n",
      "39900/39900 [==============================] - 4s 90us/step - loss: 0.0089 - acc: 0.9974 - val_loss: 0.0420 - val_acc: 0.9900\n",
      "Epoch 10/20\n",
      "39900/39900 [==============================] - 4s 90us/step - loss: 0.0078 - acc: 0.9976 - val_loss: 0.0474 - val_acc: 0.9881\n",
      "Epoch 11/20\n",
      "39900/39900 [==============================] - 4s 90us/step - loss: 0.0062 - acc: 0.9979 - val_loss: 0.0595 - val_acc: 0.9905\n",
      "Epoch 12/20\n",
      "39900/39900 [==============================] - 4s 92us/step - loss: 0.0074 - acc: 0.9981 - val_loss: 0.0550 - val_acc: 0.9881\n",
      "Epoch 13/20\n",
      "39900/39900 [==============================] - 4s 90us/step - loss: 0.0052 - acc: 0.9984 - val_loss: 0.0535 - val_acc: 0.9890\n",
      "Epoch 14/20\n",
      "39900/39900 [==============================] - 4s 92us/step - loss: 0.0052 - acc: 0.9986 - val_loss: 0.0504 - val_acc: 0.9905\n",
      "Epoch 15/20\n",
      "39900/39900 [==============================] - 4s 91us/step - loss: 0.0054 - acc: 0.9985 - val_loss: 0.0469 - val_acc: 0.9905\n",
      "Epoch 16/20\n",
      "39900/39900 [==============================] - 4s 92us/step - loss: 0.0057 - acc: 0.9982 - val_loss: 0.0776 - val_acc: 0.9886\n",
      "Epoch 17/20\n",
      "39900/39900 [==============================] - 4s 91us/step - loss: 0.0059 - acc: 0.9985 - val_loss: 0.0542 - val_acc: 0.9895\n",
      "Epoch 18/20\n",
      "39900/39900 [==============================] - 4s 92us/step - loss: 0.0041 - acc: 0.9987 - val_loss: 0.0487 - val_acc: 0.9924\n",
      "Epoch 19/20\n",
      "39900/39900 [==============================] - 4s 91us/step - loss: 0.0042 - acc: 0.9989 - val_loss: 0.0772 - val_acc: 0.9881\n",
      "Epoch 20/20\n",
      "39900/39900 [==============================] - 4s 92us/step - loss: 0.0041 - acc: 0.9988 - val_loss: 0.0541 - val_acc: 0.9914\n"
     ]
    },
    {
     "data": {
      "text/plain": [
       "<keras.callbacks.History at 0x7f043d985278>"
      ]
     },
     "execution_count": 13,
     "metadata": {},
     "output_type": "execute_result"
    }
   ],
   "source": [
    "batch_size = 128\n",
    "epochs = 20\n",
    "\n",
    "model.fit(x=train_img,\n",
    "          y=train_lab,\n",
    "          epochs=epochs,\n",
    "          batch_size=batch_size,\n",
    "          validation_data=(val_img, val_lab),\n",
    "          callbacks=[tensorboard_callback])"
   ]
  },
  {
   "cell_type": "code",
   "execution_count": 14,
   "metadata": {},
   "outputs": [
    {
     "name": "stdout",
     "output_type": "stream",
     "text": [
      "Accuracy:  99.14285714285714 %\n"
     ]
    },
    {
     "data": {
      "image/png": "[encoded data removed]",
      "text/plain": [
       "<matplotlib.figure.Figure at 0x7f03e1f9c710>"
      ]
     },
     "metadata": {},
     "output_type": "display_data"
    }
   ],
   "source": [
    "p = one_hot_2_class(model.predict(val_img))\n",
    "accuracy = sum(p == one_hot_2_class(val_lab)) / len(val_lab)\n",
    "print('Accuracy: ', accuracy*100, '%')\n",
    "plot_first(val_img, p, 6)"
   ]
  }
 ],
 "metadata": {
  "kernelspec": {
   "display_name": "Python 3",
   "language": "python",
   "name": "python3"
  },
  "language_info": {
   "codemirror_mode": {
    "name": "ipython",
    "version": 3
   },
   "file_extension": ".py",
   "mimetype": "text/x-python",
   "name": "python",
   "nbconvert_exporter": "python",
   "pygments_lexer": "ipython3",
   "version": "3.5.4"
  }
 },
 "nbformat": 4,
 "nbformat_minor": 2
}
