{
 "cells": [
  {
   "cell_type": "markdown",
   "metadata": {},
   "source": [
    "# Train a DNN on MNIST"
   ]
  },
  {
   "cell_type": "code",
   "execution_count": 1,
   "metadata": {},
   "outputs": [],
   "source": [
    "# Matplotlib\n",
    "import matplotlib.pyplot as plt\n",
    "%matplotlib inline\n",
    "plt.rcParams['figure.figsize'] = (12.0, 10.0)"
   ]
  },
  {
   "cell_type": "code",
   "execution_count": 2,
   "metadata": {},
   "outputs": [
    {
     "name": "stderr",
     "output_type": "stream",
     "text": [
      "/home/bw/.conda/envs/mnist-model/lib/python3.5/site-packages/h5py/__init__.py:36: FutureWarning: Conversion of the second argument of issubdtype from `float` to `np.floating` is deprecated. In future, it will be treated as `np.float64 == np.dtype(float).type`.\n",
      "  from ._conv import register_converters as _register_converters\n",
      "Using TensorFlow backend.\n"
     ]
    }
   ],
   "source": [
    "from mnist_model import data, plot, model"
   ]
  },
  {
   "cell_type": "markdown",
   "metadata": {},
   "source": [
    "## Load the data"
   ]
  },
  {
   "cell_type": "code",
   "execution_count": 3,
   "metadata": {},
   "outputs": [
    {
     "name": "stdout",
     "output_type": "stream",
     "text": [
      "Training examples:  37800\n",
      "Validataion examples:  4200\n"
     ]
    }
   ],
   "source": [
    "train_img, train_lab, val_data = data.mnist_train_kaggle(\n",
    "                                    '../data/train.csv')\n",
    "\n",
    "input_size = (784,)\n",
    "img_size = (28,28,1)\n",
    "\n",
    "print(\"Training examples: \", len(train_img))\n",
    "print(\"Validataion examples: \", len(val_data[0]))"
   ]
  },
  {
   "cell_type": "code",
   "execution_count": 4,
   "metadata": {},
   "outputs": [
    {
     "data": {
      "image/png": "[encoded data removed]",
      "text/plain": [
       "<matplotlib.figure.Figure at 0x7f0acb674320>"
      ]
     },
     "metadata": {},
     "output_type": "display_data"
    }
   ],
   "source": [
    "plot.plot_some(train_img, data.classes(train_lab))"
   ]
  },
  {
   "cell_type": "markdown",
   "metadata": {},
   "source": [
    "# Construct the model"
   ]
  },
  {
   "cell_type": "code",
   "execution_count": 5,
   "metadata": {},
   "outputs": [
    {
     "name": "stdout",
     "output_type": "stream",
     "text": [
      "_________________________________________________________________\n",
      "Layer (type)                 Output Shape              Param #   \n",
      "=================================================================\n",
      "reshape_1 (Reshape)          (None, 28, 28, 1)         0         \n",
      "_________________________________________________________________\n",
      "conv2d_1 (Conv2D)            (None, 24, 24, 32)        832       \n",
      "_________________________________________________________________\n",
      "max_pooling2d_1 (MaxPooling2 (None, 12, 12, 32)        0         \n",
      "_________________________________________________________________\n",
      "conv2d_2 (Conv2D)            (None, 8, 8, 64)          51264     \n",
      "_________________________________________________________________\n",
      "max_pooling2d_2 (MaxPooling2 (None, 4, 4, 64)          0         \n",
      "_________________________________________________________________\n",
      "flatten_1 (Flatten)          (None, 1024)              0         \n",
      "_________________________________________________________________\n",
      "dense_1 (Dense)              (None, 1024)              1049600   \n",
      "_________________________________________________________________\n",
      "dropout_1 (Dropout)          (None, 1024)              0         \n",
      "_________________________________________________________________\n",
      "dense_2 (Dense)              (None, 10)                10250     \n",
      "=================================================================\n",
      "Total params: 1,111,946\n",
      "Trainable params: 1,111,946\n",
      "Non-trainable params: 0\n",
      "_________________________________________________________________\n"
     ]
    }
   ],
   "source": [
    "network = model.MNIST_model()\n",
    "network.summary()"
   ]
  },
  {
   "cell_type": "markdown",
   "metadata": {},
   "source": [
    "# Train the model"
   ]
  },
  {
   "cell_type": "code",
   "execution_count": 6,
   "metadata": {},
   "outputs": [
    {
     "name": "stdout",
     "output_type": "stream",
     "text": [
      "Train on 37800 samples, validate on 4200 samples\n",
      "Epoch 1/20\n",
      "37800/37800 [==============================] - 5s 126us/step - loss: 0.2090 - acc: 0.9354 - val_loss: 0.0829 - val_acc: 0.9717\n",
      "Epoch 2/20\n",
      "37800/37800 [==============================] - 4s 95us/step - loss: 0.0526 - acc: 0.9839 - val_loss: 0.0424 - val_acc: 0.9864\n",
      "Epoch 3/20\n",
      "37800/37800 [==============================] - 4s 94us/step - loss: 0.0363 - acc: 0.9886 - val_loss: 0.0326 - val_acc: 0.9895\n",
      "Epoch 4/20\n",
      "37800/37800 [==============================] - 4s 94us/step - loss: 0.0270 - acc: 0.9910 - val_loss: 0.0338 - val_acc: 0.9900\n",
      "Epoch 5/20\n",
      "37800/37800 [==============================] - 4s 94us/step - loss: 0.0208 - acc: 0.9935 - val_loss: 0.0276 - val_acc: 0.9914\n",
      "Epoch 6/20\n",
      "37800/37800 [==============================] - 4s 93us/step - loss: 0.0178 - acc: 0.9945 - val_loss: 0.0390 - val_acc: 0.9893\n",
      "Epoch 7/20\n",
      "37800/37800 [==============================] - 4s 94us/step - loss: 0.0131 - acc: 0.9957 - val_loss: 0.0472 - val_acc: 0.9890\n",
      "Epoch 8/20\n",
      "37800/37800 [==============================] - 4s 94us/step - loss: 0.0128 - acc: 0.9961 - val_loss: 0.0526 - val_acc: 0.9879\n",
      "Epoch 9/20\n",
      "37800/37800 [==============================] - 4s 94us/step - loss: 0.0094 - acc: 0.9972 - val_loss: 0.0485 - val_acc: 0.9898\n",
      "Epoch 10/20\n",
      "37800/37800 [==============================] - 4s 93us/step - loss: 0.0090 - acc: 0.9972 - val_loss: 0.0355 - val_acc: 0.9929\n",
      "Epoch 11/20\n",
      "37800/37800 [==============================] - 4s 95us/step - loss: 0.0067 - acc: 0.9981 - val_loss: 0.0583 - val_acc: 0.9886\n",
      "Epoch 12/20\n",
      "37800/37800 [==============================] - 4s 94us/step - loss: 0.0084 - acc: 0.9975 - val_loss: 0.0524 - val_acc: 0.9902\n",
      "Epoch 13/20\n",
      "37800/37800 [==============================] - 4s 94us/step - loss: 0.0070 - acc: 0.9981 - val_loss: 0.0514 - val_acc: 0.9921\n",
      "Epoch 14/20\n",
      "37800/37800 [==============================] - 4s 95us/step - loss: 0.0063 - acc: 0.9982 - val_loss: 0.0616 - val_acc: 0.9902\n",
      "Epoch 15/20\n",
      "37800/37800 [==============================] - 4s 99us/step - loss: 0.0053 - acc: 0.9983 - val_loss: 0.0533 - val_acc: 0.9895\n",
      "Epoch 16/20\n",
      "37800/37800 [==============================] - 4s 101us/step - loss: 0.0065 - acc: 0.9983 - val_loss: 0.0595 - val_acc: 0.9902\n",
      "Epoch 17/20\n",
      "37800/37800 [==============================] - 4s 98us/step - loss: 0.0040 - acc: 0.9990 - val_loss: 0.0735 - val_acc: 0.9912\n",
      "Epoch 18/20\n",
      "37800/37800 [==============================] - 4s 96us/step - loss: 0.0051 - acc: 0.9985 - val_loss: 0.0590 - val_acc: 0.9921\n",
      "Epoch 19/20\n",
      "37800/37800 [==============================] - 4s 100us/step - loss: 0.0064 - acc: 0.9984 - val_loss: 0.0520 - val_acc: 0.9936\n",
      "Epoch 20/20\n",
      "37800/37800 [==============================] - 4s 105us/step - loss: 0.0059 - acc: 0.9985 - val_loss: 0.0572 - val_acc: 0.9912\n"
     ]
    }
   ],
   "source": [
    "network.train(x=train_img,\n",
    "          y=train_lab,\n",
    "          val_data=val_data,\n",
    "          log_dir='../logs/')"
   ]
  },
  {
   "cell_type": "markdown",
   "metadata": {},
   "source": [
    "# Run the model"
   ]
  },
  {
   "cell_type": "code",
   "execution_count": 7,
   "metadata": {},
   "outputs": [
    {
     "name": "stdout",
     "output_type": "stream",
     "text": [
      "Accuracy:  99.11904761904762 %\n"
     ]
    },
    {
     "data": {
      "image/png": "[encoded data removed]",
      "text/plain": [
       "<matplotlib.figure.Figure at 0x7f0b49ca0f98>"
      ]
     },
     "metadata": {},
     "output_type": "display_data"
    }
   ],
   "source": [
    "p = data.classes(network.model.predict(val_data[0]))\n",
    "accuracy = sum(p == data.classes(val_data[1])) / len(val_data[1])\n",
    "print('Accuracy: ', accuracy*100, '%')\n",
    "plot.plot_some(val_data[0], p, 6)"
   ]
  },
  {
   "cell_type": "markdown",
   "metadata": {},
   "source": [
    "# Save the model"
   ]
  },
  {
   "cell_type": "code",
   "execution_count": 8,
   "metadata": {},
   "outputs": [],
   "source": [
    "network.save('../models/')"
   ]
  }
 ],
 "metadata": {
  "kernelspec": {
   "display_name": "Python 3",
   "language": "python",
   "name": "python3"
  },
  "language_info": {
   "codemirror_mode": {
    "name": "ipython",
    "version": 3
   },
   "file_extension": ".py",
   "mimetype": "text/x-python",
   "name": "python",
   "nbconvert_exporter": "python",
   "pygments_lexer": "ipython3",
   "version": "3.5.4"
  }
 },
 "nbformat": 4,
 "nbformat_minor": 2
}
