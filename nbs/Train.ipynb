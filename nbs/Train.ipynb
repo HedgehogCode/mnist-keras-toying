{
 "cells": [
  {
   "cell_type": "markdown",
   "metadata": {},
   "source": [
    "# Train a DNN on MNIST"
   ]
  },
  {
   "cell_type": "code",
   "execution_count": 1,
   "metadata": {},
   "outputs": [
    {
     "name": "stderr",
     "output_type": "stream",
     "text": [
      "Using TensorFlow backend.\n"
     ]
    }
   ],
   "source": [
    "import keras as K\n",
    "from keras.models import Sequential\n",
    "from keras.layers import Dense, Reshape, Conv2D, Flatten, MaxPooling2D, Dropout\n",
    "from keras.callbacks import TensorBoard\n",
    "import numpy as np\n",
    "from tensorflow.examples.tutorials.mnist import input_data"
   ]
  },
  {
   "cell_type": "markdown",
   "metadata": {},
   "source": [
    "## Load the data"
   ]
  },
  {
   "cell_type": "code",
   "execution_count": 2,
   "metadata": {},
   "outputs": [],
   "source": [
    "# TODO use the data from the Kaggle competition\n",
    "# (but it comes as csv and ugly)"
   ]
  },
  {
   "cell_type": "code",
   "execution_count": 3,
   "metadata": {},
   "outputs": [
    {
     "name": "stdout",
     "output_type": "stream",
     "text": [
      "Successfully downloaded train-images-idx3-ubyte.gz 9912422 bytes.\n",
      "Extracting /tmp/mnist/train-images-idx3-ubyte.gz\n",
      "Successfully downloaded train-labels-idx1-ubyte.gz 28881 bytes.\n",
      "Extracting /tmp/mnist/train-labels-idx1-ubyte.gz\n",
      "Successfully downloaded t10k-images-idx3-ubyte.gz 1648877 bytes.\n",
      "Extracting /tmp/mnist/t10k-images-idx3-ubyte.gz\n",
      "Successfully downloaded t10k-labels-idx1-ubyte.gz 4542 bytes.\n",
      "Extracting /tmp/mnist/t10k-labels-idx1-ubyte.gz\n"
     ]
    }
   ],
   "source": [
    "mnist = input_data.read_data_sets('/tmp/mnist', one_hot=True)\n",
    "train_img = mnist.train.images\n",
    "train_lab = mnist.train.labels\n",
    "test_img = mnist.test.images\n",
    "test_lab = mnist.test.labels\n",
    "\n",
    "img_size = (28,28,1)\n",
    "input_size = 784"
   ]
  },
  {
   "cell_type": "markdown",
   "metadata": {},
   "source": [
    "# Construct the model"
   ]
  },
  {
   "cell_type": "code",
   "execution_count": 4,
   "metadata": {},
   "outputs": [
    {
     "name": "stdout",
     "output_type": "stream",
     "text": [
      "_________________________________________________________________\n",
      "Layer (type)                 Output Shape              Param #   \n",
      "=================================================================\n",
      "reshape_1 (Reshape)          (None, 28, 28, 1)         0         \n",
      "_________________________________________________________________\n",
      "conv2d_1 (Conv2D)            (None, 24, 24, 32)        832       \n",
      "_________________________________________________________________\n",
      "max_pooling2d_1 (MaxPooling2 (None, 12, 12, 32)        0         \n",
      "_________________________________________________________________\n",
      "conv2d_2 (Conv2D)            (None, 8, 8, 64)          51264     \n",
      "_________________________________________________________________\n",
      "max_pooling2d_2 (MaxPooling2 (None, 4, 4, 64)          0         \n",
      "_________________________________________________________________\n",
      "flatten_1 (Flatten)          (None, 1024)              0         \n",
      "_________________________________________________________________\n",
      "dense_1 (Dense)              (None, 1024)              1049600   \n",
      "_________________________________________________________________\n",
      "dropout_1 (Dropout)          (None, 1024)              0         \n",
      "_________________________________________________________________\n",
      "dense_2 (Dense)              (None, 10)                10250     \n",
      "=================================================================\n",
      "Total params: 1,111,946\n",
      "Trainable params: 1,111,946\n",
      "Non-trainable params: 0\n",
      "_________________________________________________________________\n"
     ]
    }
   ],
   "source": [
    "model = Sequential()\n",
    "model.add(Reshape(img_size, input_shape=(input_size,)))\n",
    "model.add(Conv2D(32,(5,5), activation='relu'))\n",
    "model.add(MaxPooling2D((2,2)))\n",
    "model.add(Conv2D(64,(5,5), activation='relu'))\n",
    "model.add(MaxPooling2D((2,2)))\n",
    "model.add(Flatten())\n",
    "model.add(Dense(1024))\n",
    "model.add(Dropout(0.4))\n",
    "model.add(Dense(10, activation='softmax'))\n",
    "model.compile(optimizer='rmsprop',\n",
    "              loss='categorical_crossentropy',\n",
    "              metrics=['accuracy'])\n",
    "model.summary()"
   ]
  },
  {
   "cell_type": "markdown",
   "metadata": {},
   "source": [
    "### Add tensorboard callback"
   ]
  },
  {
   "cell_type": "code",
   "execution_count": 5,
   "metadata": {},
   "outputs": [],
   "source": [
    "tensorboard_callback = TensorBoard(log_dir='/tmp/mnist/logs',\n",
    "                                   write_images=True)"
   ]
  },
  {
   "cell_type": "markdown",
   "metadata": {},
   "source": [
    "# Train the model"
   ]
  },
  {
   "cell_type": "code",
   "execution_count": 6,
   "metadata": {},
   "outputs": [
    {
     "name": "stdout",
     "output_type": "stream",
     "text": [
      "Train on 55000 samples, validate on 10000 samples\n",
      "Epoch 1/20\n",
      "55000/55000 [==============================] - 5s 98us/step - loss: 0.1595 - acc: 0.9513 - val_loss: 0.0371 - val_acc: 0.9880\n",
      "Epoch 2/20\n",
      "55000/55000 [==============================] - 5s 89us/step - loss: 0.0442 - acc: 0.9860 - val_loss: 0.0348 - val_acc: 0.9892\n",
      "Epoch 3/20\n",
      "55000/55000 [==============================] - 5s 89us/step - loss: 0.0312 - acc: 0.9899 - val_loss: 0.0304 - val_acc: 0.9910\n",
      "Epoch 4/20\n",
      "55000/55000 [==============================] - 5s 90us/step - loss: 0.0235 - acc: 0.9930 - val_loss: 0.0301 - val_acc: 0.9912\n",
      "Epoch 5/20\n",
      "55000/55000 [==============================] - 5s 90us/step - loss: 0.0191 - acc: 0.9945 - val_loss: 0.0264 - val_acc: 0.9914\n",
      "Epoch 6/20\n",
      "55000/55000 [==============================] - 5s 90us/step - loss: 0.0156 - acc: 0.9950 - val_loss: 0.0366 - val_acc: 0.9902\n",
      "Epoch 7/20\n",
      "55000/55000 [==============================] - 5s 91us/step - loss: 0.0130 - acc: 0.9959 - val_loss: 0.0391 - val_acc: 0.9909\n",
      "Epoch 8/20\n",
      "55000/55000 [==============================] - 5s 90us/step - loss: 0.0121 - acc: 0.9964 - val_loss: 0.0357 - val_acc: 0.9926\n",
      "Epoch 9/20\n",
      "55000/55000 [==============================] - 5s 90us/step - loss: 0.0100 - acc: 0.9969 - val_loss: 0.0492 - val_acc: 0.9904\n",
      "Epoch 10/20\n",
      "55000/55000 [==============================] - 5s 90us/step - loss: 0.0093 - acc: 0.9970 - val_loss: 0.0351 - val_acc: 0.9929\n",
      "Epoch 11/20\n",
      "55000/55000 [==============================] - 5s 90us/step - loss: 0.0090 - acc: 0.9972 - val_loss: 0.0399 - val_acc: 0.9933\n",
      "Epoch 12/20\n",
      "55000/55000 [==============================] - 5s 88us/step - loss: 0.0076 - acc: 0.9979 - val_loss: 0.0431 - val_acc: 0.9923\n",
      "Epoch 13/20\n",
      "55000/55000 [==============================] - 5s 88us/step - loss: 0.0080 - acc: 0.9975 - val_loss: 0.0539 - val_acc: 0.9916\n",
      "Epoch 14/20\n",
      "55000/55000 [==============================] - 5s 89us/step - loss: 0.0063 - acc: 0.9981 - val_loss: 0.0481 - val_acc: 0.9925\n",
      "Epoch 15/20\n",
      "55000/55000 [==============================] - 5s 89us/step - loss: 0.0071 - acc: 0.9981 - val_loss: 0.0455 - val_acc: 0.9930\n",
      "Epoch 16/20\n",
      "55000/55000 [==============================] - 5s 90us/step - loss: 0.0071 - acc: 0.9981 - val_loss: 0.0723 - val_acc: 0.9895\n",
      "Epoch 17/20\n",
      "55000/55000 [==============================] - 5s 89us/step - loss: 0.0081 - acc: 0.9981 - val_loss: 0.0652 - val_acc: 0.9907\n",
      "Epoch 18/20\n",
      "55000/55000 [==============================] - 5s 90us/step - loss: 0.0060 - acc: 0.9984 - val_loss: 0.0710 - val_acc: 0.9891\n",
      "Epoch 19/20\n",
      "55000/55000 [==============================] - 5s 91us/step - loss: 0.0060 - acc: 0.9984 - val_loss: 0.0556 - val_acc: 0.9917\n",
      "Epoch 20/20\n",
      "55000/55000 [==============================] - 5s 89us/step - loss: 0.0057 - acc: 0.9987 - val_loss: 0.0639 - val_acc: 0.9911\n"
     ]
    },
    {
     "data": {
      "text/plain": [
       "<keras.callbacks.History at 0x7f58eb82beb8>"
      ]
     },
     "execution_count": 6,
     "metadata": {},
     "output_type": "execute_result"
    }
   ],
   "source": [
    "batch_size = 128\n",
    "epochs = 20\n",
    "\n",
    "model.fit(x=train_img,\n",
    "          y=train_lab,\n",
    "          epochs=epochs,\n",
    "          batch_size=batch_size,\n",
    "          validation_data=(test_img, test_lab),\n",
    "          callbacks=[tensorboard_callback])"
   ]
  },
  {
   "cell_type": "code",
   "execution_count": null,
   "metadata": {},
   "outputs": [],
   "source": []
  }
 ],
 "metadata": {
  "kernelspec": {
   "display_name": "Python 3",
   "language": "python",
   "name": "python3"
  },
  "language_info": {
   "codemirror_mode": {
    "name": "ipython",
    "version": 3
   },
   "file_extension": ".py",
   "mimetype": "text/x-python",
   "name": "python",
   "nbconvert_exporter": "python",
   "pygments_lexer": "ipython3",
   "version": "3.5.4"
  }
 },
 "nbformat": 4,
 "nbformat_minor": 2
}
